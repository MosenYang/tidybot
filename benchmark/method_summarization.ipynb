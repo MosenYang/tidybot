{
 "cells": [
  {
   "cell_type": "code",
   "execution_count": null,
   "id": "6d566cc1",
   "metadata": {},
   "outputs": [],
   "source": [
    "import numpy as np\n",
    "from tqdm.notebook import tqdm\n",
    "import benchmark\n",
    "import utils\n",
    "from openai_cache import Completion"
   ]
  },
  {
   "cell_type": "code",
   "execution_count": null,
   "id": "94e6f62d",
   "metadata": {},
   "outputs": [],
   "source": [
    "def construct_summarization_prompt(objects, receptacles, placements):\n",
    "    summarization_prompt_template = '''objects = [\"dried figs\", \"protein bar\", \"cornmeal\", \"Macadamia nuts\", \"vinegar\", \"herbal tea\", \"peanut oil\", \"chocolate bar\", \"bread crumbs\", \"Folgers instant coffee\"]\n",
    "receptacles = [\"top rack\", \"middle rack\", \"table\", \"shelf\", \"plastic box\"]\n",
    "pick_and_place(\"dried figs\", \"plastic box\")\n",
    "pick_and_place(\"protein bar\", \"shelf\")\n",
    "pick_and_place(\"cornmeal\", \"top rack\")\n",
    "pick_and_place(\"Macadamia nuts\", \"plastic box\")\n",
    "pick_and_place(\"vinegar\", \"middle rack\")\n",
    "pick_and_place(\"herbal tea\", \"table\")\n",
    "pick_and_place(\"peanut oil\", \"middle rack\")\n",
    "pick_and_place(\"chocolate bar\", \"shelf\")\n",
    "pick_and_place(\"bread crumbs\", \"top rack\")\n",
    "pick_and_place(\"Folgers instant coffee\", \"table\")\n",
    "# Summary: Put dry ingredients on the top rack, liquid ingredients in the middle rack, tea and coffee on the table, packaged snacks on the shelf, and dried fruits and nuts in the plastic box.\n",
    "\n",
    "objects = [\"yoga pants\", \"wool sweater\", \"black jeans\", \"Nike shorts\"]\n",
    "receptacles = [\"hamper\", \"bed\"]\n",
    "pick_and_place(\"yoga pants\", \"hamper\")\n",
    "pick_and_place(\"wool sweater\", \"bed\")\n",
    "pick_and_place(\"black jeans\", \"bed\")\n",
    "pick_and_place(\"Nike shorts\", \"hamper\")\n",
    "# Summary: Put athletic clothes in the hamper and other clothes on the bed.\n",
    "\n",
    "objects = [\"Nike sweatpants\", \"sweater\", \"cargo shorts\", \"iPhone\", \"dictionary\", \"tablet\", \"Under Armour t-shirt\", \"physics homework\"]\n",
    "receptacles = [\"backpack\", \"closet\", \"desk\", \"nightstand\"]\n",
    "pick_and_place(\"Nike sweatpants\", \"backpack\")\n",
    "pick_and_place(\"sweater\", \"closet\")\n",
    "pick_and_place(\"cargo shorts\", \"closet\")\n",
    "pick_and_place(\"iPhone\", \"nightstand\")\n",
    "pick_and_place(\"dictionary\", \"desk\")\n",
    "pick_and_place(\"tablet\", \"nightstand\")\n",
    "pick_and_place(\"Under Armour t-shirt\", \"backpack\")\n",
    "pick_and_place(\"physics homework\", \"desk\")\n",
    "# Summary: Put workout clothes in the backpack, other clothes in the closet, books and homeworks on the desk, and electronics on the nightstand.\n",
    "\n",
    "objects = {objects_str}\n",
    "receptacles = {receptacles_str}\n",
    "{placements_str}\n",
    "# Summary:'''\n",
    "    objects_str = '[' + ', '.join(map(lambda x: f'\"{x}\"', objects)) + ']'\n",
    "    receptacles_str = '[' + ', '.join(map(lambda x: f'\"{x}\"', receptacles)) + ']'\n",
    "    placements_str = '\\n'.join(map(lambda x: f'pick_and_place(\"{x[0]}\", \"{x[1]}\")', placements))\n",
    "    return summarization_prompt_template.format(objects_str=objects_str, receptacles_str=receptacles_str, placements_str=placements_str)"
   ]
  },
  {
   "cell_type": "code",
   "execution_count": null,
   "id": "bdaedc66",
   "metadata": {},
   "outputs": [],
   "source": [
    "def construct_placement_prompt(summary, objects, receptacles):\n",
    "    placement_prompt_template = '''# Summary: Put clothes in the laundry basket and toys in the storage box.\n",
    "objects = [\"socks\", \"toy car\", \"shirt\", \"Lego brick\"]\n",
    "receptacles = [\"laundry basket\", \"storage box\"]\n",
    "pick_and_place(\"socks\", \"laundry basket\")\n",
    "pick_and_place(\"toy car\", \"storage box\")\n",
    "pick_and_place(\"shirt\", \"laundry basket\")\n",
    "pick_and_place(\"Lego brick\", \"storage box\")\n",
    "\n",
    "# Summary: {summary}\n",
    "objects = {objects_str}\n",
    "receptacles = {receptacles_str}\n",
    "pick_and_place(\"{first_object}\",'''\n",
    "    objects_str = '[' + ', '.join(map(lambda x: f'\"{x}\"', objects)) + ']'\n",
    "    receptacles_str = '[' + ', '.join(map(lambda x: f'\"{x}\"', receptacles)) + ']'\n",
    "    return placement_prompt_template.format(summary=summary, objects_str=objects_str, receptacles_str=receptacles_str, first_object=objects[0])"
   ]
  },
  {
   "cell_type": "code",
   "execution_count": null,
   "id": "fdb301f8",
   "metadata": {},
   "outputs": [],
   "source": [
    "def evaluate(scenarios, eval_split='unseen', model='text-davinci-003', verbose=False):\n",
    "    assert eval_split in {'unseen', 'seen'}\n",
    "    completion = Completion()\n",
    "    accuracies = []\n",
    "    for i, scenario in enumerate(tqdm(scenarios)):\n",
    "        if verbose:\n",
    "            print(f'Scenario {i + 1} of {len(scenarios)}\\n')\n",
    "\n",
    "        # Summarization\n",
    "        summarization_prompt = construct_summarization_prompt(\n",
    "            scenario.seen_objects, scenario.receptacles, scenario.seen_placements)\n",
    "        summarization_completion = completion.create(summarization_prompt, model=model)['choices'][0]['text']\n",
    "        if verbose:\n",
    "            print(summarization_prompt, end='')\n",
    "            utils.print_colored(summarization_completion, 'blue')\n",
    "            print('\\n' + 10 * '-' + '\\n')\n",
    "\n",
    "        # Object placement\n",
    "        summary = benchmark.parse_summary(summarization_completion)\n",
    "        objects = scenario.seen_objects if eval_split == 'seen' else scenario.unseen_objects\n",
    "        placement_prompt = construct_placement_prompt(summary, objects, scenario.receptacles)\n",
    "        placement_completion = completion.create(placement_prompt, model=model)['choices'][0]['text']\n",
    "        if verbose:\n",
    "            print(placement_prompt, end='')\n",
    "            utils.print_colored(placement_completion, 'blue')\n",
    "            print('\\n' + 10 * '-' + '\\n')\n",
    "\n",
    "        # Analysis\n",
    "        predicted_placements = benchmark.parse_placements(placement_completion, objects)\n",
    "        correct_placements = scenario.seen_placements if eval_split == 'seen' else scenario.unseen_placements\n",
    "        corrects, accuracy = benchmark.check_placements(predicted_placements, correct_placements)\n",
    "        accuracies.append(accuracy)\n",
    "        if verbose:\n",
    "            print(f'Annotator notes: {scenario.annotator_notes}\\n')\n",
    "            print('Correct placements:')\n",
    "            for placement in correct_placements:\n",
    "                print(placement)\n",
    "            print('\\nParsed placements:')\n",
    "            for placement, correct in zip(predicted_placements, corrects):\n",
    "                utils.print_colored(placement, 'green' if correct else 'red')\n",
    "            print(f'\\nAccuracy: {accuracy:.2f}')\n",
    "            print('\\n' + 80 * '-' + '\\n')\n",
    "    return accuracies"
   ]
  },
  {
   "cell_type": "code",
   "execution_count": null,
   "id": "f8bcd7db",
   "metadata": {},
   "outputs": [],
   "source": [
    "scenarios = benchmark.load_scenarios()\n",
    "len(scenarios)"
   ]
  },
  {
   "cell_type": "code",
   "execution_count": null,
   "id": "9057ecb4",
   "metadata": {
    "scrolled": false
   },
   "outputs": [],
   "source": [
    "#accuracies = evaluate(scenarios, eval_split='unseen', verbose=True)\n",
    "accuracies = evaluate(scenarios, eval_split='unseen')\n",
    "np.mean(accuracies).round(3)"
   ]
  },
  {
   "cell_type": "code",
   "execution_count": null,
   "id": "2d75569c",
   "metadata": {},
   "outputs": [],
   "source": [
    "accuracies = evaluate(scenarios, eval_split='seen')\n",
    "np.mean(accuracies).round(3)"
   ]
  },
  {
   "cell_type": "code",
   "execution_count": null,
   "id": "6de3f113",
   "metadata": {},
   "outputs": [],
   "source": []
  }
 ],
 "metadata": {
  "kernelspec": {
   "display_name": "Python 3 (ipykernel)",
   "language": "python",
   "name": "python3"
  },
  "language_info": {
   "codemirror_mode": {
    "name": "ipython",
    "version": 3
   },
   "file_extension": ".py",
   "mimetype": "text/x-python",
   "name": "python",
   "nbconvert_exporter": "python",
   "pygments_lexer": "ipython3",
   "version": "3.9.12"
  }
 },
 "nbformat": 4,
 "nbformat_minor": 5
}
